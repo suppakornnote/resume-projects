{
 "cells": [
  {
   "cell_type": "code",
   "execution_count": 1,
   "metadata": {},
   "outputs": [
    {
     "name": "stdout",
     "output_type": "stream",
     "text": [
      "Found 200 images belonging to 20 classes.\n",
      "Found 100 images belonging to 20 classes.\n"
     ]
    }
   ],
   "source": [
    "import tensorflow as tf\n",
    "from tensorflow.keras.models import Sequential\n",
    "from tensorflow.keras.layers import Dense, Dropout, Flatten, Conv2D, MaxPooling2D\n",
    "from tensorflow.keras.preprocessing.image import ImageDataGenerator\n",
    "\n",
    "img_rows, img_cols = 100, 100\n",
    "input_shape = (img_rows, img_cols, 3)\n",
    "num_classes = 20\n",
    "\n",
    "# Create a data generator for training\n",
    "train_datagen = ImageDataGenerator(rescale=1./255)\n",
    "train_generator = train_datagen.flow_from_directory(\n",
    "   \"C:/Users/Suppakorn/Downloads/gt_db_dataset-20250313T104411Z-001/gt_db_dataset/gt_db_train\",\n",
    "    target_size=(img_rows, img_cols),\n",
    "    batch_size=10,\n",
    "    class_mode='categorical',\n",
    "    shuffle=True\n",
    ")\n",
    "step_size_train = train_generator.n / train_generator.batch_size\n",
    "\n",
    "# Create a data generator for validation\n",
    "val_datagen = ImageDataGenerator(rescale=1./255)\n",
    "val_generator = val_datagen.flow_from_directory(\n",
    "   \"C:/Users/Suppakorn/Downloads/gt_db_dataset-20250313T104411Z-001/gt_db_dataset/gt_db_val\",\n",
    "    target_size=(img_rows, img_cols),\n",
    "    batch_size=10,\n",
    "    class_mode='categorical',\n",
    "    shuffle=True\n",
    ")\n",
    "step_size_val = val_generator.n / val_generator.batch_size\n"
   ]
  },
  {
   "cell_type": "code",
   "execution_count": null,
   "metadata": {},
   "outputs": [],
   "source": [
    "import tensorflow as tf\n",
    "from tensorflow.keras.models import Sequential\n",
    "from tensorflow.keras.layers import Conv2D, MaxPooling2D, Flatten, Dense\n",
    "\n",
    "# Define input shape and number of classes\n",
    "img_rows, img_cols = 100, 100\n",
    "input_shape = (img_rows, img_cols, 3)\n",
    "num_classes = 20\n",
    "\n",
    "# Initialize the Sequential model\n",
    "model = Sequential()\n",
    "\n",
    "# Add layers to the model\n",
    "# Convolutional Layer 1\n",
    "model.add(Conv2D(\n",
    "    filters=32,\n",
    "    kernel_size=(3, 3),\n",
    "    activation='relu',\n",
    "    input_shape=input_shape\n",
    "))\n",
    "\n",
    "# Convolutional Layer 2\n",
    "model.add(Conv2D(\n",
    "    filters=64,\n",
    "    kernel_size=(3, 3),\n",
    "    activation='relu'\n",
    "))\n",
    "\n",
    "# Max Pooling Layer\n",
    "model.add(MaxPooling2D(pool_size=(2, 2)))\n",
    "\n",
    "# Flatten Layer\n",
    "model.add(Flatten())\n",
    "\n",
    "# Fully Connected Layer 1\n",
    "model.add(Dense(\n",
    "    units=128,\n",
    "    activation='relu'\n",
    "))\n",
    "\n",
    "# Output Layer\n",
    "model.add(Dense(\n",
    "    units=num_classes,\n",
    "    activation='softmax'\n",
    "))\n",
    "\n",
    "# Print the model summary\n",
    "model.summary()"
   ]
  },
  {
   "cell_type": "code",
   "execution_count": null,
   "metadata": {},
   "outputs": [],
   "source": [
    "import tensorflow as tf\n",
    "from tensorflow import keras\n",
    "from tensorflow.keras.preprocessing.image import ImageDataGenerator\n",
    "\n",
    "from tensorflow.keras.optimizers import Adam\n",
    "from tensorflow.keras.losses import categorical_crossentropy\n",
    "# Define the optimizer with the updated learning rate parameter\n",
    "adam = Adam(learning_rate=0.0003)\n",
    "\n",
    "# Compile the model\n",
    "model.compile(\n",
    "    loss=keras.losses.categorical_crossentropy,\n",
    "    optimizer=adam,\n",
    "    metrics=['accuracy']\n",
    ")\n",
    "\n",
    "# Train the model\n",
    "history = model.fit(\n",
    "    train_generator,\n",
    "    # steps_per_epoch = step_size_train,\n",
    "    epochs = 10,\n",
    "    validation_data = val_generator,\n",
    "    # validation_steps = step_size_val\n",
    ")"
   ]
  },
  {
   "cell_type": "code",
   "execution_count": null,
   "metadata": {},
   "outputs": [],
   "source": [
    "import matplotlib\n",
    "import matplotlib.pyplot as plt\n",
    "# Plot training accuracy values\n",
    "plt.plot(history.history['accuracy'])\n",
    "plt.plot(history.history['val_accuracy'])\n",
    "plt.title('Model Acuracy')\n",
    "plt.ylabel('Accuracy')\n",
    "plt.xlabel('Epoch')\n",
    "plt.legend(['Train','Validate'], loc='upper left')\n",
    "plt.savefig('Accuracy.png')\n",
    "plt.show()\n",
    "\n",
    "# Plot training loss values\n",
    "plt.plot(history.history['loss'])\n",
    "plt.plot(history.history['val_loss'])\n",
    "plt.title('Model Loss')\n",
    "plt.ylabel('Loss')\n",
    "plt.xlabel('Epoch')\n",
    "plt.legend(['Train','Validate'], loc='upper left')\n",
    "plt.savefig('Loss.png')\n",
    "plt.show()"
   ]
  },
  {
   "cell_type": "code",
   "execution_count": null,
   "metadata": {},
   "outputs": [],
   "source": [
    "model.save(\"D:/ICT/3rd-Year/term-2/Security/Final-Project/model_faceID.h5\")"
   ]
  }
 ],
 "metadata": {
  "kernelspec": {
   "display_name": "Python 3",
   "language": "python",
   "name": "python3"
  },
  "language_info": {
   "codemirror_mode": {
    "name": "ipython",
    "version": 3
   },
   "file_extension": ".py",
   "mimetype": "text/x-python",
   "name": "python",
   "nbconvert_exporter": "python",
   "pygments_lexer": "ipython3",
   "version": "3.12.5"
  }
 },
 "nbformat": 4,
 "nbformat_minor": 2
}
